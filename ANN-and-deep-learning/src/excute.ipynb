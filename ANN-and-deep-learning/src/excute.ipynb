{
 "cells": [
  {
   "cell_type": "code",
   "execution_count": null,
   "metadata": {
    "scrolled": true
   },
   "outputs": [
    {
     "name": "stdout",
     "output_type": "stream",
     "text": [
      "Epoch 0: 4646 / 10000\n",
      "Epoch 1: 4699 / 10000\n",
      "Epoch 2: 4694 / 10000\n",
      "Epoch 3: 4727 / 10000\n",
      "Epoch 4: 4707 / 10000\n",
      "Epoch 5: 4721 / 10000\n",
      "Epoch 6: 4715 / 10000\n",
      "Epoch 7: 4736 / 10000\n",
      "Epoch 8: 4740 / 10000\n",
      "Epoch 9: 4741 / 10000\n",
      "Epoch 10: 4759 / 10000\n",
      "Epoch 11: 4751 / 10000\n",
      "Epoch 12: 4742 / 10000\n",
      "Epoch 13: 4748 / 10000\n",
      "Epoch 14: 4766 / 10000\n",
      "Epoch 15: 4768 / 10000\n",
      "Epoch 16: 4762 / 10000\n",
      "Epoch 17: 4776 / 10000\n",
      "Epoch 18: 4760 / 10000\n"
     ]
    }
   ],
   "source": [
    "import mnist_loader\n",
    "training_data, validation_data, test_data = \\\n",
    "mnist_loader.load_data_wrapper()\n",
    "        \n",
    "import net_test as network\n",
    "net = network.Network([784, 100, 10]) #[input neurons, hidden neurons, output neurons]\n",
    "\n",
    "net.SGD(training_data, 30, 10, 3.0, test_data=test_data) #(train, epochs, mini-batch size, η, test)"
   ]
  },
  {
   "cell_type": "code",
   "execution_count": null,
   "metadata": {},
   "outputs": [],
   "source": []
  }
 ],
 "metadata": {
  "kernelspec": {
   "display_name": "Python 3",
   "language": "python",
   "name": "python3"
  },
  "language_info": {
   "codemirror_mode": {
    "name": "ipython",
    "version": 3
   },
   "file_extension": ".py",
   "mimetype": "text/x-python",
   "name": "python",
   "nbconvert_exporter": "python",
   "pygments_lexer": "ipython3",
   "version": "3.7.3"
  }
 },
 "nbformat": 4,
 "nbformat_minor": 2
}
