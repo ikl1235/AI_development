{
 "cells": [
  {
   "cell_type": "markdown",
   "metadata": {},
   "source": [
    "#excute code"
   ]
  },
  {
   "cell_type": "code",
   "execution_count": null,
   "metadata": {
    "scrolled": true
   },
   "outputs": [
    {
     "name": "stdout",
     "output_type": "stream",
     "text": [
      "----------Epoch 0 training complete----------\n",
      "Cost on training data: 0.5157904257486293\n",
      "Accuracy on training data: 46181 / 50000\n",
      "Cost on evaluation data: 0.49970273582431307\n",
      "Accuracy on evaluation data: 9265 / 10000\n",
      "----------Epoch 1 training complete----------\n",
      "Cost on training data: 0.3836474670305932\n",
      "Accuracy on training data: 47239 / 50000\n",
      "Cost on evaluation data: 0.3829359761217223\n",
      "Accuracy on evaluation data: 9432 / 10000\n",
      "----------Epoch 2 training complete----------\n",
      "Cost on training data: 0.29915847721844385\n",
      "Accuracy on training data: 47855 / 50000\n",
      "Cost on evaluation data: 0.30859316692495775\n",
      "Accuracy on evaluation data: 9545 / 10000\n",
      "----------Epoch 3 training complete----------\n",
      "Cost on training data: 0.26119131045980665\n",
      "Accuracy on training data: 48130 / 50000\n",
      "Cost on evaluation data: 0.2832401038982196\n",
      "Accuracy on evaluation data: 9588 / 10000\n",
      "----------Epoch 4 training complete----------\n",
      "Cost on training data: 0.21736496183757759\n",
      "Accuracy on training data: 48570 / 50000\n",
      "Cost on evaluation data: 0.24307347402585883\n",
      "Accuracy on evaluation data: 9665 / 10000\n",
      "----------Epoch 5 training complete----------\n",
      "Cost on training data: 0.18527496727131723\n",
      "Accuracy on training data: 48766 / 50000\n",
      "Cost on evaluation data: 0.2161871083487747\n",
      "Accuracy on evaluation data: 9676 / 10000\n",
      "----------Epoch 6 training complete----------\n",
      "Cost on training data: 0.16675366649372333\n",
      "Accuracy on training data: 48991 / 50000\n",
      "Cost on evaluation data: 0.20664503839036363\n",
      "Accuracy on evaluation data: 9686 / 10000\n",
      "----------Epoch 7 training complete----------\n",
      "Cost on training data: 0.14649009368503602\n",
      "Accuracy on training data: 49107 / 50000\n",
      "Cost on evaluation data: 0.1901242024238283\n",
      "Accuracy on evaluation data: 9728 / 10000\n",
      "----------Epoch 8 training complete----------\n",
      "Cost on training data: 0.13918385993329635\n",
      "Accuracy on training data: 49164 / 50000\n",
      "Cost on evaluation data: 0.19279794265272254\n",
      "Accuracy on evaluation data: 9731 / 10000\n",
      "----------Epoch 9 training complete----------\n",
      "Cost on training data: 0.12267425260989193\n",
      "Accuracy on training data: 49332 / 50000\n",
      "Cost on evaluation data: 0.18027756983790866\n",
      "Accuracy on evaluation data: 9730 / 10000\n",
      "----------Epoch 10 training complete----------\n",
      "Cost on training data: 0.11103155197625726\n",
      "Accuracy on training data: 49392 / 50000\n",
      "Cost on evaluation data: 0.17119537949164\n",
      "Accuracy on evaluation data: 9748 / 10000\n",
      "----------Epoch 11 training complete----------\n",
      "Cost on training data: 0.1052959107975454\n",
      "Accuracy on training data: 49433 / 50000\n",
      "Cost on evaluation data: 0.16944170702131076\n",
      "Accuracy on evaluation data: 9756 / 10000\n",
      "----------Epoch 12 training complete----------\n",
      "Cost on training data: 0.09504908312189461\n",
      "Accuracy on training data: 49521 / 50000\n",
      "Cost on evaluation data: 0.164792530020702\n",
      "Accuracy on evaluation data: 9757 / 10000\n",
      "----------Epoch 13 training complete----------\n",
      "Cost on training data: 0.08911223995852738\n",
      "Accuracy on training data: 49562 / 50000\n",
      "Cost on evaluation data: 0.163549342528259\n",
      "Accuracy on evaluation data: 9764 / 10000\n",
      "----------Epoch 14 training complete----------\n",
      "Cost on training data: 0.08551922658127037\n",
      "Accuracy on training data: 49573 / 50000\n",
      "Cost on evaluation data: 0.1626416963296278\n",
      "Accuracy on evaluation data: 9766 / 10000\n",
      "----------Epoch 15 training complete----------\n",
      "Cost on training data: 0.0786002495881313\n",
      "Accuracy on training data: 49637 / 50000\n",
      "Cost on evaluation data: 0.1612013088977523\n",
      "Accuracy on evaluation data: 9764 / 10000\n",
      "----------Epoch 16 training complete----------\n",
      "Cost on training data: 0.07283796070465097\n",
      "Accuracy on training data: 49676 / 50000\n",
      "Cost on evaluation data: 0.15654494321931162\n",
      "Accuracy on evaluation data: 9775 / 10000\n",
      "----------Epoch 17 training complete----------\n",
      "Cost on training data: 0.0691411665340817\n",
      "Accuracy on training data: 49734 / 50000\n",
      "Cost on evaluation data: 0.15710904098753845\n",
      "Accuracy on evaluation data: 9782 / 10000\n",
      "----------Epoch 18 training complete----------\n",
      "Cost on training data: 0.06355442737803674\n",
      "Accuracy on training data: 49762 / 50000\n",
      "Cost on evaluation data: 0.15330825953248167\n",
      "Accuracy on evaluation data: 9780 / 10000\n",
      "----------Epoch 19 training complete----------\n",
      "Cost on training data: 0.058523665262645734\n",
      "Accuracy on training data: 49795 / 50000\n",
      "Cost on evaluation data: 0.1527349856117424\n",
      "Accuracy on evaluation data: 9786 / 10000\n",
      "----------Epoch 20 training complete----------\n",
      "Cost on training data: 0.05626706374653312\n",
      "Accuracy on training data: 49800 / 50000\n",
      "Cost on evaluation data: 0.15746457468135003\n",
      "Accuracy on evaluation data: 9777 / 10000\n"
     ]
    }
   ],
   "source": [
    "import mnist_loader\n",
    "import itertools\n",
    "import copy\n",
    "\n",
    "import j_network as network\n",
    "\n",
    "training_data, validation_data, test_data = mnist_loader.load_data_wrapper()\n",
    "\n",
    "#QuadraticCost , CrossEntropyCost / Sigmoid , Relu , Tanh\n",
    "net = network.Network([784, 120, 10], cost=network.CrossEntropyCost, active=network.Sigmoid)\n",
    "\n",
    "#net.default_weight_initializer()\n",
    "net.xavier_weight_initializer()\n",
    "#net.he_weight_initializer()\n",
    "\n",
    "#itertools.islice(training_data, 1000)\n",
    "evaluation_cost, evaluation_accuracy, training_cost, training_accuracy = net.SGD(training_data, 60, 10, 0.1, lmbda = 0.001, \n",
    "                                                                        evaluation_data=test_data,\n",
    "                                                                        monitor_evaluation_cost=True, monitor_evaluation_accuracy=True, \n",
    "                                                                        monitor_training_cost=True, monitor_training_accuracy=True)"
   ]
  },
  {
   "cell_type": "markdown",
   "metadata": {},
   "source": [
    "#graph"
   ]
  },
  {
   "cell_type": "code",
   "execution_count": 67,
   "metadata": {
    "scrolled": false
   },
   "outputs": [
    {
     "data": {
      "image/png": "[encoded data removed]",
      "text/plain": [
       "<Figure size 432x288 with 4 Axes>"
      ]
     },
     "metadata": {
      "needs_background": "light"
     },
     "output_type": "display_data"
    },
    {
     "name": "stdout",
     "output_type": "stream",
     "text": [
      "train accuray :  49998\n",
      "train cost :  0.39245886443849964\n",
      "test accuracy :  9791\n",
      "test cost :  2.077522078174598\n",
      "test accuracy :  9791\n",
      "test cost :  3.029101756264872\n"
     ]
    }
   ],
   "source": [
    "import numpy as np\n",
    "import matplotlib.pyplot as plt\n",
    "\n",
    "z = np.arange(0, 60, 1)\n",
    "\n",
    "ax = plt.subplot(221)\n",
    "y = [i/50000 for i in training_accuracy]\n",
    "ax.plot(z, y)\n",
    "ax.grid(True)\n",
    "ax.set_xlabel('epoch')\n",
    "ax.set_ylabel('accuracy')\n",
    "ax.set_title('training data accuracy')\n",
    "\n",
    "ax = plt.subplot(222)\n",
    "y = [i/10000 for i in evaluation_accuracy]\n",
    "ax.plot(z, y)\n",
    "ax.grid(True)\n",
    "ax.set_xlabel('epoch')\n",
    "ax.set_ylabel('accuracy')\n",
    "ax.set_title('test data accuracy')\n",
    "\n",
    "ax = plt.subplot(223)\n",
    "y = [i for i in training_cost]\n",
    "ax.plot(z, y)\n",
    "ax.grid(True)\n",
    "ax.set_xlabel('epoch')\n",
    "ax.set_ylabel('cost')\n",
    "ax.set_title('training data cost')\n",
    "\n",
    "ax = plt.subplot(224)\n",
    "y = [i for i in evaluation_cost]\n",
    "ax.plot(z, y)\n",
    "ax.grid(True)\n",
    "ax.set_xlabel('epoch')\n",
    "ax.set_ylabel('cost')\n",
    "ax.set_title('test data cost')\n",
    "\n",
    "plt.tight_layout()\n",
    "plt.show()\n",
    "\n",
    "print(\"train accuray : \", training_accuracy[-1])\n",
    "print(\"train cost : \", training_cost[-1])\n",
    "print(\"test accuracy : \", evaluation_accuracy[-1])\n",
    "print(\"test cost : \", evaluation_cost[-1])\n",
    "\n",
    "training_data, validation_data, test_data = mnist_loader.load_data_wrapper()\n",
    "print(\"test accuracy : \", net.accuracy(copy.deepcopy(test_data)))\n",
    "print(\"test cost : \", net.total_cost(copy.deepcopy(test_data), 7.5, convert=True)) #lambda"
   ]
  },
  {
   "cell_type": "code",
   "execution_count": null,
   "metadata": {},
   "outputs": [],
   "source": []
  }
 ],
 "metadata": {
  "kernelspec": {
   "display_name": "Python 3",
   "language": "python",
   "name": "python3"
  },
  "language_info": {
   "codemirror_mode": {
    "name": "ipython",
    "version": 3
   },
   "file_extension": ".py",
   "mimetype": "text/x-python",
   "name": "python",
   "nbconvert_exporter": "python",
   "pygments_lexer": "ipython3",
   "version": "3.7.3"
  }
 },
 "nbformat": 4,
 "nbformat_minor": 2
}
