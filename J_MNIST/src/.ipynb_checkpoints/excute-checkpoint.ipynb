{
 "cells": [
  {
   "cell_type": "code",
   "execution_count": null,
   "metadata": {
    "scrolled": true
   },
   "outputs": [],
   "source": [
    "net = network.Network([784, 30, 10]) #[input neurons, hidden neurons, output neurons]\n",
    "\n",
    "net.SGD(training_data, 30, 10, 3.0, test_data=test_data) #(train, epochs, mini-batch size, η, test)"
   ]
  },
  {
   "cell_type": "markdown",
   "metadata": {},
   "source": [
    "#network2 example1_entropy 적용"
   ]
  },
  {
   "cell_type": "code",
   "execution_count": null,
   "metadata": {
    "scrolled": true
   },
   "outputs": [],
   "source": [
    "net = network2.Network([784, 30, 10], cost=network2.CrossEntropyCost)\n",
    "net.large_weight_initializer()\n",
    "net.SGD(training_data, 30, 10, 0.5, evaluation_data=test_data, monitor_evaluation_accuracy=True)"
   ]
  },
  {
   "cell_type": "markdown",
   "metadata": {},
   "source": [
    "#network2 example2_cost 비교"
   ]
  },
  {
   "cell_type": "code",
   "execution_count": null,
   "metadata": {
    "scrolled": true
   },
   "outputs": [],
   "source": [
    "net = network2.Network([784, 30, 10], cost=network2.CrossEntropyCost)\n",
    "net.large_weight_initializer()\n",
    "net.SGD(training_data, 20, 10, 0.5, evaluation_data=test_data, monitor_evaluation_accuracy=True, monitor_training_cost=True)"
   ]
  },
  {
   "cell_type": "markdown",
   "metadata": {},
   "source": [
    "#network2 example3_regularization(lmbda)"
   ]
  },
  {
   "cell_type": "code",
   "execution_count": null,
   "metadata": {
    "scrolled": true
   },
   "outputs": [],
   "source": [
    "net = network2.Network([784, 30, 10], cost=network2.CrossEntropyCost)\n",
    "net.large_weight_initializer()\n",
    "net.SGD(itertools.islice(training_data, 1000), 100, 10, 0.5, evaluation_data=validation_data, lmbda = 5.0,\n",
    "        monitor_evaluation_cost=True, monitor_evaluation_accuracy=True, monitor_training_cost=True, monitor_training_accuracy=True)"
   ]
  },
  {
   "cell_type": "markdown",
   "metadata": {},
   "source": [
    "#network2 example4_weight initialization"
   ]
  },
  {
   "cell_type": "code",
   "execution_count": null,
   "metadata": {
    "scrolled": true
   },
   "outputs": [],
   "source": [
    "net = network2.Network([784, 30, 10], cost=network2.CrossEntropyCost)\n",
    "#net.large_weight_initializer()\n",
    "net.SGD(training_data, 30, 10, 0.1, lmbda = 5.0, evaluation_data=validation_data, monitor_evaluation_accuracy=True)"
   ]
  },
  {
   "cell_type": "markdown",
   "metadata": {},
   "source": [
    "#monitering"
   ]
  },
  {
   "cell_type": "code",
   "execution_count": null,
   "metadata": {},
   "outputs": [],
   "source": [
    "net = network2.Network([784, 30, 10], cost=network2.CrossEntropyCost)\n",
    "net.large_weight_initializer()\n",
    "net.SGD(itertools.islice(training_data, 1000), 30, 10, 0.5, lmbda = 5.0, evaluation_data=validation_data, \n",
    "        monitor_evaluation_cost=True, monitor_evaluation_accuracy=True, monitor_training_cost=True, monitor_training_accuracy=True)\n",
    "evaluation_cost, evaluation_accuracy, \n",
    "training_cost, training_accuracy = net.SGD(training_data, 30, 10, 0.5, lmbda = 5.0, evaluation_data=validation_data, \n",
    "                                           monitor_evaluation_accuracy=True, monitor_evaluation_cost=True, \n",
    "                                           monitor_training_accuracy=True, monitor_training_cost=True)"
   ]
  },
  {
   "cell_type": "code",
   "execution_count": null,
   "metadata": {},
   "outputs": [
    {
     "name": "stdout",
     "output_type": "stream",
     "text": [
      "----------Epoch 0 training complete----------\n",
      "Cost on training data: 0.5062279818453818\n",
      "Accuracy on training data: 215 / 1000\n",
      "Cost on evaluation data: 0.4375446079882289\n",
      "Accuracy on evaluation data: 2066 / 10000\n",
      "----------Epoch 1 training complete----------\n",
      "Cost on training data: 0.46954889711013237\n",
      "Accuracy on training data: 342 / 1000\n",
      "Cost on evaluation data: 0.41466756255946946\n",
      "Accuracy on evaluation data: 3148 / 10000\n",
      "----------Epoch 2 training complete----------\n",
      "Cost on training data: 0.44440488797447814\n",
      "Accuracy on training data: 431 / 1000\n",
      "Cost on evaluation data: 0.3927224947727749\n",
      "Accuracy on evaluation data: 4119 / 10000\n",
      "----------Epoch 3 training complete----------\n",
      "Cost on training data: 0.42982301345655993\n",
      "Accuracy on training data: 454 / 1000\n",
      "Cost on evaluation data: 0.3766088718804208\n",
      "Accuracy on evaluation data: 4219 / 10000\n",
      "----------Epoch 4 training complete----------\n",
      "Cost on training data: 0.4125264486009097\n",
      "Accuracy on training data: 555 / 1000\n",
      "Cost on evaluation data: 0.3551336456752567\n",
      "Accuracy on evaluation data: 5330 / 10000\n",
      "----------Epoch 5 training complete----------\n",
      "Cost on training data: 0.39791016795413975\n",
      "Accuracy on training data: 589 / 1000\n",
      "Cost on evaluation data: 0.335241642150007\n",
      "Accuracy on evaluation data: 5778 / 10000\n",
      "----------Epoch 6 training complete----------\n",
      "Cost on training data: 0.3933003932095547\n",
      "Accuracy on training data: 590 / 1000\n",
      "Cost on evaluation data: 0.3264284061722152\n",
      "Accuracy on evaluation data: 5792 / 10000\n",
      "----------Epoch 7 training complete----------\n",
      "Cost on training data: 0.38692353806181834\n",
      "Accuracy on training data: 602 / 1000\n",
      "Cost on evaluation data: 0.3145222476540971\n",
      "Accuracy on evaluation data: 5877 / 10000\n",
      "----------Epoch 8 training complete----------\n",
      "Cost on training data: 0.3823859610956395\n",
      "Accuracy on training data: 657 / 1000\n",
      "Cost on evaluation data: 0.3069065952131662\n",
      "Accuracy on evaluation data: 6372 / 10000\n",
      "----------Epoch 9 training complete----------\n",
      "Cost on training data: 0.38004420511686104\n"
     ]
    }
   ],
   "source": [
    "import mnist_loader\n",
    "import itertools\n",
    "\n",
    "import j_network as network\n",
    "\n",
    "training_data, validation_data, test_data = mnist_loader.load_data_wrapper()\n",
    "\n",
    "#[input neurons, hidden neurons, output neurons]\n",
    "net = network.Network([784, 30, 10], cost=network.QuadraticCost)\n",
    "#net = network.Network([784, 30, 10], cost=network.CrossEntropyCost)\n",
    "\n",
    "net.large_weight_initializer()\n",
    "net.default_weight_initializer()\n",
    "\n",
    "#(train, epochs, mini-batch size, η, lambda, eval, test)\n",
    "net.SGD(itertools.islice(training_data, 1000), 30, 10, 0.5, lmbda = 5.0, evaluation_data=validation_data,\n",
    "        monitor_evaluation_cost=True, monitor_evaluation_accuracy=True, monitor_training_cost=True, monitor_training_accuracy=True)"
   ]
  },
  {
   "cell_type": "code",
   "execution_count": null,
   "metadata": {},
   "outputs": [],
   "source": []
  }
 ],
 "metadata": {
  "kernelspec": {
   "display_name": "Python 3",
   "language": "python",
   "name": "python3"
  },
  "language_info": {
   "codemirror_mode": {
    "name": "ipython",
    "version": 3
   },
   "file_extension": ".py",
   "mimetype": "text/x-python",
   "name": "python",
   "nbconvert_exporter": "python",
   "pygments_lexer": "ipython3",
   "version": "3.7.3"
  }
 },
 "nbformat": 4,
 "nbformat_minor": 2
}
